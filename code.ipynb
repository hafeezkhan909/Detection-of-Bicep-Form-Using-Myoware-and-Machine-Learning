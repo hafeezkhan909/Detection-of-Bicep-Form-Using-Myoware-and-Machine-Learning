{
 "cells": [
  {
   "cell_type": "code",
   "execution_count": 1,
   "id": "da2ec201",
   "metadata": {},
   "outputs": [
    {
     "data": {
      "text/plain": [
       "'\\nCreated on Sat Nov  24 20:15:02 2021\\n@author: Mohammed Abdul Hafeez Khan\\n'"
      ]
     },
     "execution_count": 1,
     "metadata": {},
     "output_type": "execute_result"
    }
   ],
   "source": [
    "# -*- coding: utf-8 -*-\n",
    "\"\"\"\n",
    "Created on Sat Nov  24 20:15:02 2021\n",
    "@author: Mohammed Abdul Hafeez Khan\n",
    "\"\"\""
   ]
  },
  {
   "cell_type": "code",
   "execution_count": 2,
   "id": "dafda41d",
   "metadata": {},
   "outputs": [],
   "source": [
    "import numpy as np\n",
    "import matplotlib.pyplot as plt\n",
    "import pandas as pd"
   ]
  },
  {
   "cell_type": "code",
   "execution_count": 3,
   "id": "7711d728",
   "metadata": {},
   "outputs": [],
   "source": [
    "myoware_project_dataset = pd.read_csv('sensors_data.csv') #Reading the values from the dataset(csv file)\n",
    "#Seperating the the independent variables from the dependent variable\n",
    "X = myoware_project_dataset.iloc[:, :-1].values  #Independent variables stored in the X\n",
    "y = myoware_project_dataset.iloc[:, -1].values #Dependent variables stored in y"
   ]
  },
  {
   "cell_type": "code",
   "execution_count": 4,
   "id": "93d9b6e0",
   "metadata": {},
   "outputs": [
    {
     "name": "stdout",
     "output_type": "stream",
     "text": [
      "<class 'pandas.core.frame.DataFrame'>\n",
      "RangeIndex: 5000 entries, 0 to 4999\n",
      "Data columns (total 5 columns):\n",
      " #   Column   Non-Null Count  Dtype  \n",
      "---  ------   --------------  -----  \n",
      " 0   Myoware  5000 non-null   int64  \n",
      " 1   X-axis   5000 non-null   float64\n",
      " 2   Y-axis   5000 non-null   float64\n",
      " 3   Z-axis   5000 non-null   float64\n",
      " 4   Output   5000 non-null   object \n",
      "dtypes: float64(3), int64(1), object(1)\n",
      "memory usage: 195.4+ KB\n"
     ]
    }
   ],
   "source": [
    "myoware_project_dataset.info() "
   ]
  },
  {
   "cell_type": "code",
   "execution_count": 5,
   "id": "620023ba",
   "metadata": {},
   "outputs": [
    {
     "data": {
      "text/plain": [
       "Myoware      int64\n",
       "X-axis     float64\n",
       "Y-axis     float64\n",
       "Z-axis     float64\n",
       "Output      object\n",
       "dtype: object"
      ]
     },
     "execution_count": 5,
     "metadata": {},
     "output_type": "execute_result"
    }
   ],
   "source": [
    "myoware_project_dataset.dtypes"
   ]
  },
  {
   "cell_type": "code",
   "execution_count": 6,
   "id": "869dab28",
   "metadata": {},
   "outputs": [
    {
     "name": "stdout",
     "output_type": "stream",
     "text": [
      "[0 0 0 ... 1 1 1]\n",
      "(5000,)\n"
     ]
    }
   ],
   "source": [
    "from sklearn.preprocessing import LabelEncoder # Label encoding to transform the labels into numeric form so as to convert them into machine-readable form.\n",
    "\n",
    "label_encoder = LabelEncoder()\n",
    "y = label_encoder.fit_transform(y)\n",
    "print(y)\n",
    "print(y.shape)"
   ]
  },
  {
   "cell_type": "code",
   "execution_count": 7,
   "id": "6105bb6b",
   "metadata": {},
   "outputs": [
    {
     "name": "stdout",
     "output_type": "stream",
     "text": [
      "<class 'numpy.ndarray'>\n"
     ]
    }
   ],
   "source": [
    "print(type(y))\n"
   ]
  },
  {
   "cell_type": "code",
   "execution_count": 8,
   "id": "514c6d38",
   "metadata": {},
   "outputs": [
    {
     "name": "stdout",
     "output_type": "stream",
     "text": [
      "[[ 2.08e+02 -8.22e+00  1.97e+00 -6.90e-01]\n",
      " [ 2.36e+02 -6.03e+00  4.00e+00  5.90e-01]\n",
      " [ 3.18e+02 -7.03e+00  7.50e-01 -4.10e-01]\n",
      " ...\n",
      " [ 7.00e+01 -7.66e+00  4.10e-01 -3.70e-01]\n",
      " [ 6.35e+02 -7.78e+00  1.09e+00 -1.00e+00]\n",
      " [ 6.28e+02 -7.56e+00  2.09e+00 -1.90e-01]]\n"
     ]
    }
   ],
   "source": [
    "from sklearn.model_selection import train_test_split  #Splitting the dataset into train and test set.\n",
    "X_train, X_test, y_train, y_test = train_test_split(X, y, test_size = 0.20, random_state = 0) #Keeping the random state as 0, so that you can compare the results of the model with mine!\n",
    "print(X_train)"
   ]
  },
  {
   "cell_type": "code",
   "execution_count": 9,
   "id": "f3694b4b",
   "metadata": {},
   "outputs": [
    {
     "name": "stdout",
     "output_type": "stream",
     "text": [
      "[[-1.06464771 -0.99758179 -0.0654607  -0.48076555]\n",
      " [-0.94730703  0.83475484  0.91515164  0.79506289]\n",
      " [-0.60366647 -0.00192856 -0.65479423 -0.20167808]\n",
      " ...\n",
      " [-1.64296964 -0.52903909 -0.81903472 -0.16180844]\n",
      " [ 0.72479767 -0.6294411  -0.49055374 -0.78975525]\n",
      " [ 0.6954625  -0.44537075 -0.00749347  0.01760494]]\n"
     ]
    }
   ],
   "source": [
    "from sklearn.preprocessing import StandardScaler #Standardizing the variables by feature extraction using Standard Scaler method.\n",
    "dataPreprocessing = StandardScaler()             #Standardize features by removing the mean and scaling to unit variance.\n",
    "X_train = dataPreprocessing.fit_transform(X_train)\n",
    "X_test = dataPreprocessing.transform(X_test)\n",
    "print(X_train)"
   ]
  },
  {
   "cell_type": "code",
   "execution_count": 10,
   "id": "d6eded1a",
   "metadata": {},
   "outputs": [
    {
     "name": "stdout",
     "output_type": "stream",
     "text": [
      "[[-0.3177733  -0.36014786]\n",
      " [ 0.55016558 -0.41157924]\n",
      " [-0.37738487 -0.24847902]\n",
      " ...\n",
      " [-0.25647136 -0.47221475]\n",
      " [-0.21033677  0.53086904]\n",
      " [-0.03786923  0.3798357 ]]\n"
     ]
    }
   ],
   "source": [
    "from sklearn.decomposition import KernelPCA #Applying Kernel PCA to project dataset into a higher dimensional feature space, where it is linearly separable.\n",
    "kpca = KernelPCA(n_components = 2, kernel = 'rbf') #We are selecting 2 compnents here, as it is most ideal value to use here and will be trouble-free for plotting on a 2D graph. rbf is the radial basis fuction kernel.\n",
    "X_train = kpca.fit_transform(X_train)\n",
    "X_test = kpca.transform(X_test)\n",
    "print(X_train)"
   ]
  },
  {
   "cell_type": "code",
   "execution_count": 11,
   "id": "d5d21b03",
   "metadata": {},
   "outputs": [
    {
     "data": {
      "text/plain": [
       "RandomForestClassifier(criterion='entropy', n_estimators=50, random_state=0)"
      ]
     },
     "execution_count": 11,
     "metadata": {},
     "output_type": "execute_result"
    }
   ],
   "source": [
    "from sklearn.ensemble import RandomForestClassifier\n",
    "data_classifier = RandomForestClassifier(n_estimators = 50, criterion = 'entropy', random_state = 0)\n",
    "data_classifier.fit(X_train, y_train)"
   ]
  },
  {
   "cell_type": "code",
   "execution_count": 12,
   "id": "08a05669",
   "metadata": {},
   "outputs": [],
   "source": [
    "#Comparison with the decision tree\n",
    "#feature_importance=pd.DataFrame({\n",
    "#   'rfc':data_classifier.feature_importances_,\n",
    "#    'dt':d_classifier.feature_importances_\n",
    "#}, index=myoware_project_dataset.drop(columns=['X-axis','Y-axis','Z-axis']).columns)\n",
    "#feature_importance.sort_values(by='rfc',ascending=True,inplace=True)\n",
    "\n",
    "#index = np.arange(len(feature_importance))\n",
    "#fig, ax = plt.subplots(figsize=(18,8))\n",
    "#rfc_feature=ax.barh(index,feature_importance['rfc'],0.4,color='purple',label='Random Forest')\n",
    "#dt_feature=ax.barh(index+0.4,feature_importance['dt'],0.4,color='lightgreen',label='Decision Tree')\n",
    "#ax.set(yticks=index+0.4,yticklabels=feature_importance.index)\n",
    "\n",
    "#ax.legend()\n",
    "#plt.show()"
   ]
  },
  {
   "cell_type": "code",
   "execution_count": 13,
   "id": "33159082",
   "metadata": {
    "scrolled": true
   },
   "outputs": [
    {
     "name": "stdout",
     "output_type": "stream",
     "text": [
      "Random (chance) Prediction: AUROC = 0.500\n",
      "Random Forest Classification: AUROC = 0.951\n"
     ]
    },
    {
     "data": {
      "image/png": "[encoded data removed]",
      "text/plain": [
       "<Figure size 432x288 with 1 Axes>"
      ]
     },
     "metadata": {
      "needs_background": "light"
     },
     "output_type": "display_data"
    }
   ],
   "source": [
    "from sklearn.metrics import roc_curve, roc_auc_score # Determining the AUC and ROC curve values\n",
    "\n",
    "r_probs = [0 for _ in range(len(y_test))]\n",
    "rfc_probs = data_classifier.predict_proba(X_test)\n",
    "\n",
    "rfc_probs = rfc_probs[:, 1] # Storing the positive output's only \n",
    "\n",
    "r_auc = roc_auc_score(y_test, r_probs)\n",
    "rfc_auc = roc_auc_score(y_test, rfc_probs)\n",
    "\n",
    "print('Random (chance) Prediction: AUROC = %.3f' % (r_auc))\n",
    "print('Random Forest Classification: AUROC = %.3f' % (rfc_auc))\n",
    "\n",
    "#Determing the ROC Curve\n",
    "r_fpr, r_tpr, _ = roc_curve(y_test, r_probs)\n",
    "rfc_fpr, rfc_tpr, _ = roc_curve(y_test, rfc_probs)\n",
    "\n",
    "plt.plot(rfc_fpr, rfc_tpr, marker='.', label='Random (chance) Prediction (AUROC = %0.3f)' % rfc_auc)\n",
    "plt.plot(r_fpr, r_tpr, linestyle='--', label='Random Forest Classification (AUROC = %0.3f)' % r_auc)\n",
    "\n",
    "\n",
    "plt.title('ROC Plot') # Title\n",
    "\n",
    "plt.xlabel('False Positive Rate') # X-Axis label\n",
    "plt.ylabel('True Positive Rate') # Y-Axis label\n",
    "plt.legend()  # Show legend\n",
    "plt.show() # Show plot"
   ]
  },
  {
   "cell_type": "code",
   "execution_count": 14,
   "id": "5008b977",
   "metadata": {},
   "outputs": [
    {
     "name": "stdout",
     "output_type": "stream",
     "text": [
      "[0 0 0 1 0 0 1 0 0 0 0 1 1 1 0 1 1 0 0 0 0 0 0 1 0 1 1 1 0 1 0 0 1 0 1 1 0\n",
      " 0 0 1 1 0 1 0 0 1 0 0 1 0 0 0 0 0 0 1 0 0 1 1 1 0 0 0 1 1 0 0 1 0 1 0 0 0\n",
      " 0 1 1 0 0 1 0 0 0 0 0 0 1 1 0 0 1 0 0 0 0 0 0 1 0 1 0 1 0 0 0 0 0 0 1 0 1\n",
      " 1 1 1 1 0 0 0 1 0 1 1 1 1 1 0 1 1 0 1 0 1 0 0 0 0 1 1 1 1 1 0 1 0 1 0 0 0\n",
      " 0 1 0 0 0 0 0 0 1 1 0 1 0 1 0 0 0 0 1 1 1 1 1 1 0 0 1 0 0 0 0 0 1 0 1 0 0\n",
      " 1 1 0 1 0 0 0 1 1 0 0 1 0 1 0 0 0 1 1 1 0 1 1 0 0 0 0 0 0 0 1 0 0 1 0 0 1\n",
      " 1 1 0 1 1 0 0 1 1 0 1 0 1 1 0 0 0 0 1 1 1 1 1 1 0 0 1 1 0 0 1 0 1 0 0 0 1\n",
      " 0 0 0 0 0 1 0 0 0 1 0 0 1 1 0 0 1 0 0 0 1 0 1 0 1 1 1 0 0 1 0 1 0 1 0 1 0\n",
      " 1 1 0 1 1 0 0 0 0 1 0 1 1 1 0 0 0 0 0 0 1 0 0 1 1 0 0 1 1 0 1 0 0 1 0 1 1\n",
      " 1 1 1 0 1 0 1 1 1 0 1 1 1 0 0 0 1 1 0 0 1 0 1 0 0 1 1 0 1 0 0 0 1 1 1 1 0\n",
      " 1 0 0 1 0 1 1 1 0 1 1 1 0 1 1 1 0 0 1 0 1 1 0 1 0 1 1 0 0 1 1 0 1 1 0 0 1\n",
      " 0 0 0 1 1 1 0 0 1 0 1 1 0 0 0 0 1 0 1 1 0 1 1 0 0 1 1 1 1 0 1 1 0 0 1 1 1\n",
      " 0 1 0 1 1 0 1 0 1 0 1 1 0 0 1 0 1 0 1 0 0 0 1 1 1 1 0 1 0 1 0 0 0 1 1 1 1\n",
      " 0 1 0 0 1 1 0 0 0 1 1 1 1 1 0 1 0 1 1 0 1 0 0 0 1 0 1 0 0 0 0 0 0 0 1 1 0\n",
      " 0 0 1 0 1 0 1 1 0 1 0 1 0 1 0 1 1 0 0 1 1 0 1 0 1 1 0 0 1 1 0 0 0 1 1 0 0\n",
      " 1 1 0 1 0 1 1 1 0 1 1 0 1 0 1 1 0 0 1 1 0 0 1 0 1 1 1 1 0 1 0 0 1 0 0 0 1\n",
      " 0 0 0 0 1 1 0 0 0 1 1 1 0 0 0 0 0 1 0 1 1 1 1 1 0 0 0 0 1 0 1 0 0 1 0 0 1\n",
      " 0 1 1 1 0 0 0 0 0 0 0 0 1 0 0 0 1 1 0 0 0 1 0 0 0 0 0 1 1 0 1 1 0 1 1 1 0\n",
      " 1 1 1 1 1 1 0 0 1 1 0 0 0 1 0 1 0 1 0 1 0 1 1 0 0 1 0 0 1 1 0 0 0 0 1 0 0\n",
      " 0 0 0 0 0 1 0 1 0 0 1 0 0 1 0 1 0 0 1 1 1 0 1 0 0 0 0 0 0 1 0 1 1 0 0 0 1\n",
      " 0 1 0 1 0 0 1 0 0 1 1 0 1 0 0 0 1 1 0 1 1 0 0 0 1 0 1 0 0 1 0 1 1 1 1 1 0\n",
      " 1 1 1 1 1 0 1 0 1 0 0 0 0 1 1 0 0 1 1 0 0 0 0 0 1 0 0 1 0 0 1 1 0 0 0 1 1\n",
      " 0 1 1 0 1 0 0 1 0 0 1 0 0 0 0 0 1 0 1 0 0 0 1 1 0 0 0 1 0 0 0 0 0 1 1 0 1\n",
      " 0 1 0 0 0 1 0 0 0 0 1 1 0 0 0 1 1 1 1 0 1 1 0 1 0 1 1 0 0 0 1 1 0 0 0 0 1\n",
      " 0 1 1 1 0 0 0 1 0 1 1 1 1 0 0 0 0 1 0 1 0 0 0 1 0 1 1 1 0 1 1 0 1 1 0 1 0\n",
      " 0 0 1 0 1 1 0 0 1 0 0 1 0 0 0 0 1 1 1 0 1 0 0 0 1 0 0 0 1 1 0 1 0 1 1 0 0\n",
      " 0 0 0 0 0 0 0 1 0 0 0 1 0 0 0 0 0 0 1 1 0 0 1 0 0 0 1 0 0 0 0 0 0 1 1 0 0\n",
      " 1]\n",
      "[[508  44]\n",
      " [ 47 401]]\n"
     ]
    },
    {
     "data": {
      "text/plain": [
       "0.909"
      ]
     },
     "execution_count": 14,
     "metadata": {},
     "output_type": "execute_result"
    }
   ],
   "source": [
    "from sklearn.metrics import confusion_matrix, accuracy_score\n",
    "y_pred = data_classifier.predict(X_test)\n",
    "print(y_pred)\n",
    "cm = confusion_matrix(y_test.ravel(), y_pred)\n",
    "print(cm)\n",
    "accuracy_score(y_test.ravel(), y_pred)"
   ]
  },
  {
   "cell_type": "code",
   "execution_count": 15,
   "id": "73918239",
   "metadata": {},
   "outputs": [
    {
     "data": {
      "text/plain": [
       "array([0, 1])"
      ]
     },
     "execution_count": 15,
     "metadata": {},
     "output_type": "execute_result"
    }
   ],
   "source": [
    "from sklearn.utils.multiclass import unique_labels\n",
    "unique_labels(y_test)"
   ]
  },
  {
   "cell_type": "code",
   "execution_count": 16,
   "id": "583fe75e",
   "metadata": {},
   "outputs": [
    {
     "data": {
      "text/plain": [
       "<AxesSubplot:>"
      ]
     },
     "execution_count": 16,
     "metadata": {},
     "output_type": "execute_result"
    },
    {
     "data": {
      "image/png": "[encoded data removed]",
      "text/plain": [
       "<Figure size 432x288 with 2 Axes>"
      ]
     },
     "metadata": {
      "needs_background": "light"
     },
     "output_type": "display_data"
    }
   ],
   "source": [
    "import seaborn as sns\n",
    "def plot(y_true, y_predlr):\n",
    "    labels = unique_labels(y_test)\n",
    "    column = [f'Predicted {label}'for label in labels]\n",
    "    indices = [f'Actual {label}' for label in labels]\n",
    "    table = pd.DataFrame(confusion_matrix(y_true, y_pred),\n",
    "                        columns = column, index = indices)\n",
    "    return sns.heatmap(table, annot = True, fmt = 'd', cmap = 'viridis')\n",
    "plot(y_test,y_pred)"
   ]
  },
  {
   "cell_type": "code",
   "execution_count": 17,
   "id": "5e07db13",
   "metadata": {},
   "outputs": [
    {
     "name": "stdout",
     "output_type": "stream",
     "text": [
      "True Positives: 508\n",
      "True Negatives: 401\n",
      "False Positives: 47\n",
      "False Negatives: 44\n",
      "----------------------------------------------------------------------------------------------------\n",
      "Sensitivity: 0.9203\n",
      "Specificity: 0.8951\n",
      "Mis-Classification: 0.091\n",
      "Precision: 0.9153\n",
      "f_1 Score: 0.9178\n",
      "Accuracy: 0.909\n",
      "FPR: 0.1049\n",
      "Therefore, the Accuracy of the model is 90.9 %\n"
     ]
    }
   ],
   "source": [
    "#Getting the values of True Positives, True Negatives, False Positives and False Negatives with the help of the Confusion Matrix.\n",
    "TP = cm[0][0]\n",
    "TN = cm[1][1]\n",
    "FN = cm[0][1]\n",
    "FP = cm[1][0]\n",
    "\n",
    "print('True Positives:', TP)\n",
    "print('True Negatives:', TN)\n",
    "print('False Positives:', FP)\n",
    "print('False Negatives:', FN)\n",
    "\n",
    "# calculating the sensitivity, specificity, precision, f1 Score, accuracy and the mis-classification of the model\n",
    "conf_sensitivity = (TP / float(TP + FN))\n",
    "\n",
    "conf_specificity = (TN / float(TN + FP))\n",
    "    \n",
    "conf_precision = (TP / float(TP + FP))\n",
    "\n",
    "conf_f1 = 2 * ((conf_precision * conf_sensitivity) / (conf_precision + conf_sensitivity))\n",
    "\n",
    "conf_accuracy = (float (TP+TN) / float(TP + TN + FP + FN))\n",
    "\n",
    "FPR = (FP / float(FP + TN))\n",
    "\n",
    "conf_misclassification = 1- conf_accuracy\n",
    "\n",
    "a =conf_accuracy*100\n",
    "\n",
    "print('-'*100)\n",
    "print(f'Sensitivity: {round(conf_sensitivity,4)}') \n",
    "print(f'Specificity: {round(conf_specificity,4)}') \n",
    "print(f'Mis-Classification: {round(conf_misclassification,4)}') \n",
    "print(f'Precision: {round(conf_precision,4)}')\n",
    "print(f'f_1 Score: {round(conf_f1,4)}')\n",
    "print(f'Accuracy: {round(conf_accuracy,4)}')\n",
    "print(f'FPR: {round(FPR,4)}')\n",
    "print('Therefore, the Accuracy of the model is '+str(a)+' %')\n"
   ]
  },
  {
   "cell_type": "code",
   "execution_count": 18,
   "id": "440d3c18",
   "metadata": {},
   "outputs": [
    {
     "name": "stderr",
     "output_type": "stream",
     "text": [
      "*c* argument looks like a single numeric RGB or RGBA sequence, which should be avoided as value-mapping will have precedence in case its length matches with *x* & *y*.  Please use the *color* keyword-argument or provide a 2-D array with a single row if you intend to specify the same RGB or RGBA value for all points.\n",
      "*c* argument looks like a single numeric RGB or RGBA sequence, which should be avoided as value-mapping will have precedence in case its length matches with *x* & *y*.  Please use the *color* keyword-argument or provide a 2-D array with a single row if you intend to specify the same RGB or RGBA value for all points.\n"
     ]
    },
    {
     "data": {
      "image/png": "[encoded data removed]",
      "text/plain": [
       "<Figure size 432x288 with 1 Axes>"
      ]
     },
     "metadata": {
      "needs_background": "light"
     },
     "output_type": "display_data"
    }
   ],
   "source": [
    "from matplotlib.colors import ListedColormap\n",
    "X_set, y_set = X_train, y_train\n",
    "X1, X2 = np.meshgrid(np.arange(start = X_set[:, 0].min() - 0.5, stop = X_set[:, 0].max() + 0.5, step = 0.05),\n",
    "                     np.arange(start = X_set[:, 1].min() - 0.5, stop = X_set[:, 1].max() + 0.5, step = 0.05))\n",
    "plt.contourf(X1, X2, data_classifier.predict(np.array([X1.ravel(), X2.ravel()]).T).reshape(X1.shape),\n",
    "             alpha = 0.75, cmap = ListedColormap(('yellow', 'red', 'red')))\n",
    "plt.xlim(X1.min(), X1.max())\n",
    "plt.ylim(X2.min(), X2.max())\n",
    "for i, j in enumerate(np.unique(y_set)):\n",
    "    plt.scatter(X_set[y_set == j, 0], X_set[y_set == j, 1],\n",
    "                c = ListedColormap(('orange', 'red', 'green'))(i), label = j)\n",
    "plt.title('Random Forest Classifier (Training set)')\n",
    "plt.xlabel('PC1')\n",
    "plt.ylabel('PC2')\n",
    "plt.legend()\n",
    "plt.show()"
   ]
  },
  {
   "cell_type": "code",
   "execution_count": 19,
   "id": "331959c3",
   "metadata": {},
   "outputs": [
    {
     "name": "stderr",
     "output_type": "stream",
     "text": [
      "*c* argument looks like a single numeric RGB or RGBA sequence, which should be avoided as value-mapping will have precedence in case its length matches with *x* & *y*.  Please use the *color* keyword-argument or provide a 2-D array with a single row if you intend to specify the same RGB or RGBA value for all points.\n",
      "*c* argument looks like a single numeric RGB or RGBA sequence, which should be avoided as value-mapping will have precedence in case its length matches with *x* & *y*.  Please use the *color* keyword-argument or provide a 2-D array with a single row if you intend to specify the same RGB or RGBA value for all points.\n"
     ]
    },
    {
     "data": {
      "image/png": "[encoded data removed]",
      "text/plain": [
       "<Figure size 432x288 with 1 Axes>"
      ]
     },
     "metadata": {
      "needs_background": "light"
     },
     "output_type": "display_data"
    }
   ],
   "source": [
    "from matplotlib.colors import ListedColormap\n",
    "X_set, y_set = X_test, y_test\n",
    "X1, X2 = np.meshgrid(np.arange(start = X_set[:, 0].min() - 0.5, stop = X_set[:, 0].max() + 0.5, step = 0.05),\n",
    "                     np.arange(start = X_set[:, 1].min() - 0.5, stop = X_set[:, 1].max() + 0.5, step = 0.05))\n",
    "plt.contourf(X1, X2, data_classifier.predict(np.array([X1.ravel(), X2.ravel()]).T).reshape(X1.shape),\n",
    "             alpha = 0.75, cmap = ListedColormap(('yellow', 'red', 'red')))\n",
    "plt.xlim(X1.min(), X1.max())\n",
    "plt.ylim(X2.min(), X2.max())\n",
    "for i, j in enumerate(np.unique(y_set)):\n",
    "    plt.scatter(X_set[y_set == j, 0], X_set[y_set == j, 1],\n",
    "                c = ListedColormap(('orange', 'red', 'green'))(i), label = j)\n",
    "plt.title('Random Forest Classifier (Test set)')\n",
    "plt.xlabel('PC1')\n",
    "plt.ylabel('PC2')\n",
    "plt.legend()\n",
    "plt.show()"
   ]
  },
  {
   "cell_type": "code",
   "execution_count": null,
   "id": "1d42e12d",
   "metadata": {},
   "outputs": [],
   "source": []
  }
 ],
 "metadata": {
  "kernelspec": {
   "display_name": "Python 3",
   "language": "python",
   "name": "python3"
  },
  "language_info": {
   "codemirror_mode": {
    "name": "ipython",
    "version": 3
   },
   "file_extension": ".py",
   "mimetype": "text/x-python",
   "name": "python",
   "nbconvert_exporter": "python",
   "pygments_lexer": "ipython3",
   "version": "3.8.8"
  }
 },
 "nbformat": 4,
 "nbformat_minor": 5
}
