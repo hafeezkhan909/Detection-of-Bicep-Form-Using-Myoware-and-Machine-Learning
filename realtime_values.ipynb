{
 "cells": [
  {
   "cell_type": "code",
   "execution_count": null,
   "id": "d8e42bf1",
   "metadata": {},
   "outputs": [],
   "source": [
    "import serial #The serial module encapsulates the access for the serial port. \n",
    "port_no = \"COM3\" #serial port of Arduino\n",
    "baud_rate = 9600 #arduino uno runs at 9600 baud\n",
    "fileName=\"analog-data.csv\" #The real time values will be stored in a newly generated csv file.\n",
    "no_of_samples = 1000 #For collecting the amount of samples at once\n",
    "print_labels = False\n",
    "\n",
    "ser = serial.Serial(port_no, baud_rate)\n",
    "print(\"Connected to Arduino port:\" + port_no)\n",
    "file = open(fileName, \"a\") #Use \"w\" only for the first run of the program. replace \"w\" with \"a\" When you run this program from second time onwards, as the new values will be then appended to the same file.\n",
    "print(\"Created file\")\n",
    "\n",
    "line = 0 #Since our header is at 0, we start at 0 (not the real data).\n",
    "\n",
    "while line <= no_of_samples:\n",
    "    # incoming = ser.read(9999)\n",
    "    # if len(incoming) > 0:\n",
    "    if print_labels:\n",
    "        if line==0:\n",
    "            print(\"Printing Column Headers\")\n",
    "        else:\n",
    "            print(\"Line \" + str(line) + \": writing...\")\n",
    "    getData=str(ser.readline())\n",
    "    data=getData[2:][:-5]\n",
    "    print(data)\n",
    "\n",
    "    file = open(fileName, \"a\")\n",
    "    file.write(data) #Writing data with a new line\n",
    "    file.write('\\n')\n",
    "    line = line+1\n",
    "\n",
    "print(\"Data collection complete!\")\n",
    "file.close()"
   ]
  },
  {
   "cell_type": "code",
   "execution_count": null,
   "id": "52db4d6a",
   "metadata": {},
   "outputs": [],
   "source": []
  }
 ],
 "metadata": {
  "kernelspec": {
   "display_name": "Python 3",
   "language": "python",
   "name": "python3"
  },
  "language_info": {
   "codemirror_mode": {
    "name": "ipython",
    "version": 3
   },
   "file_extension": ".py",
   "mimetype": "text/x-python",
   "name": "python",
   "nbconvert_exporter": "python",
   "pygments_lexer": "ipython3",
   "version": "3.8.8"
  }
 },
 "nbformat": 4,
 "nbformat_minor": 5
}
